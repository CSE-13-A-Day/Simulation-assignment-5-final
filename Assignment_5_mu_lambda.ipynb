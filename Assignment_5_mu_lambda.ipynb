{
  "nbformat": 4,
  "nbformat_minor": 0,
  "metadata": {
    "colab": {
      "name": "Assignment_5_mu_lambda.ipynb",
      "provenance": [],
      "collapsed_sections": []
    },
    "kernelspec": {
      "display_name": "Python 3",
      "name": "python3"
    },
    "language_info": {
      "name": "python"
    }
  },
  "cells": [
    {
      "cell_type": "code",
      "metadata": {
        "id": "vg5AKdnlEHza"
      },
      "source": [
        "#Importing distribution method from scipy\n",
        "from scipy.stats import *"
      ],
      "execution_count": 192,
      "outputs": []
    },
    {
      "cell_type": "code",
      "metadata": {
        "id": "rfU7oWaN5vYm"
      },
      "source": [
        "#Declering list\n",
        "interArrivalTime = []\n",
        "arrivalTime = []\n",
        "serviceTime = []\n",
        "serviceTimeBegin = []\n",
        "serviceTimeEnd = []\n",
        "timeSpendSystem = []\n",
        "timeIdleServer = []\n",
        "waitingTime = []"
      ],
      "execution_count": 193,
      "outputs": []
    },
    {
      "cell_type": "code",
      "metadata": {
        "id": "suMzwe8MExTI"
      },
      "source": [
        "#Generating random number by poisson distribution and assigining inter arrival time\n",
        "mu = 5.6\n",
        "for i in range (19):\n",
        "  n = poisson.rvs(mu)\n",
        "  interArrivalTime.append(n)\n",
        "\n",
        "#Assigining first customer inter arrival time, arrival time, service time begin, waiting time, server idle time as zero\n",
        "interArrivalTime.insert(0,0)\n",
        "arrivalTime.insert(0,0)\n",
        "serviceTimeBegin.insert(0,0)\n",
        "waitingTime.insert(0,0)\n",
        "timeIdleServer.insert(0,0)\n",
        "\n",
        "#Calculatim arrival time from 2nd customer to 20th customer\n",
        "for i in range (1,20):\n",
        "    arrivalTime.append(interArrivalTime[i] + arrivalTime[i-1])"
      ],
      "execution_count": 194,
      "outputs": []
    },
    {
      "cell_type": "code",
      "metadata": {
        "id": "09IkTD_emtqu"
      },
      "source": [
        "#For service time generating random number using exponential distribution\n",
        "for i in range (20):\n",
        "  n = expon.rvs(scale=0.5, loc=5)\n",
        "  serviceTime.append(round(n,2))"
      ],
      "execution_count": 195,
      "outputs": []
    },
    {
      "cell_type": "code",
      "metadata": {
        "id": "zZ9cd_oE-T7o"
      },
      "source": [
        "#Calculating service end time for first customer\n",
        "serviceTimeEnd.insert(0,(serviceTime[0] + serviceTimeBegin[0]))"
      ],
      "execution_count": 196,
      "outputs": []
    },
    {
      "cell_type": "code",
      "metadata": {
        "id": "rZBzpXGdFV3G"
      },
      "source": [
        "# Calculating service begins time and service end time for 2nd to 20th customers\n",
        "for i in range (1,20):\n",
        "  if (arrivalTime[i] > serviceTimeEnd[i-1]):\n",
        "    #serviceTimeBegin.append(arrivalTime[i])\n",
        "    serviceTimeBegin.insert(i,round(arrivalTime[i],2))\n",
        "    #serviceTimeEnd.append(serviceTimeBegin[i] + serviceTime[i])\n",
        "    serviceTimeEnd.insert(i,round((serviceTimeBegin[i] + serviceTime[i]),2))\n",
        "  else:\n",
        "    serviceTimeBegin.append(serviceTimeEnd[i-1])\n",
        "    #serviceTimeBegin.insert(i,round(serviceTimeEnd[i-1]),2))\n",
        "    #serviceTimeEnd.append(serviceTimeBegin[i] + serviceTime[i])\n",
        "    serviceTimeEnd.insert(i,round((serviceTimeBegin[i] + serviceTime[i]),2))"
      ],
      "execution_count": 197,
      "outputs": []
    },
    {
      "cell_type": "code",
      "metadata": {
        "id": "wHDocPbS9h6x"
      },
      "source": [
        "#Calculating waiting for customer 2nd to 20th\n",
        "for i in range (1,20):\n",
        "  if (serviceTimeBegin[i] > arrivalTime[i]):\n",
        "    waitingTime.insert(i, round((serviceTimeBegin[i] - arrivalTime[i]),2))\n",
        "  else:\n",
        "    waitingTime.insert(i,0)"
      ],
      "execution_count": 198,
      "outputs": []
    },
    {
      "cell_type": "code",
      "metadata": {
        "id": "ZLOMwtZEDofR"
      },
      "source": [
        "#Calculating time spend in system by the customes\n",
        "for i in range(20):\n",
        "  timeSpendSystem.insert(i, round((serviceTime[i] + waitingTime[i]),2))\n"
      ],
      "execution_count": 199,
      "outputs": []
    },
    {
      "cell_type": "code",
      "metadata": {
        "id": "xZxat0PKFl1H"
      },
      "source": [
        "#Calculating server idle time for customer 2nd to 20th\n",
        "for i in range (1,20):\n",
        "  if (serviceTimeEnd[i-1] < arrivalTime[i]):\n",
        "    timeIdleServer.insert(i,round((arrivalTime[i] - serviceTimeEnd[i-1]),2))\n",
        "  else:\n",
        "    timeIdleServer.insert(i,0)"
      ],
      "execution_count": 200,
      "outputs": []
    },
    {
      "cell_type": "code",
      "metadata": {
        "colab": {
          "base_uri": "https://localhost:8080/"
        },
        "id": "27nwfcqumyrj",
        "outputId": "1e3d4c65-5011-45b8-ae27-a55c0729ea4e"
      },
      "source": [
        "print(\"---------------------------------------------------------------------------------------------------------------------------------------------\")\n",
        "print(\"Customer\\t Interarrival\\t Arrival\\t Service \\t SBT\\t\\t SET\\t\\t Waiting \\t Time Spend \\t Server Idle\")\n",
        "print(\"   No\\t \\t     Time\\t  Time\\t\\t  Time\\t\\t\\t\\t\\t\\t  Time\\t\\t in System\\t    Time    \")\n",
        "print(\"---------------------------------------------------------------------------------------------------------------------------------------------\")\n",
        "for i in range (1,21):\n",
        "  print(\"   \",i ,\"\\t\\t\", interArrivalTime[i-1], \"\\t\\t\", arrivalTime[i-1], \"\\t\\t\", serviceTime[i-1], \"\\t\\t\", serviceTimeBegin[i-1], \"\\t\\t\" , serviceTimeEnd[i-1], \"\\t\\t\", waitingTime[i-1], \"\\t\\t\", timeSpendSystem[i-1], \"\\t\\t\", timeIdleServer[i-1])\n",
        "\n",
        "print(\"---------------------------------------------------------------------------------------------------------------------------------------------\")\n",
        "\n",
        "sumInterArrival = sum(interArrivalTime)\n",
        "sumService = round(sum(serviceTime),2)\n",
        "sumWaiting = round(sum(waitingTime),2)\n",
        "sumSpendSystem = round(sum(timeSpendSystem),2)\n",
        "sumServerIdle = round(sum(timeIdleServer),2)\n",
        "\n",
        "print(\"Total: \\t\",\"   TIAT=\",sumInterArrival,\"\\t\\t\\t\\tTST=\",sumService,\"\\t\\t\\t\\t\\tTWT=\",sumWaiting,\"\\t\\tTTSIS=\",sumSpendSystem,\"\\tTSIT\",sumServerIdle)"
      ],
      "execution_count": 201,
      "outputs": [
        {
          "output_type": "stream",
          "text": [
            "---------------------------------------------------------------------------------------------------------------------------------------------\n",
            "Customer\t Interarrival\t Arrival\t Service \t SBT\t\t SET\t\t Waiting \t Time Spend \t Server Idle\n",
            "   No\t \t     Time\t  Time\t\t  Time\t\t\t\t\t\t  Time\t\t in System\t    Time    \n",
            "---------------------------------------------------------------------------------------------------------------------------------------------\n",
            "    1 \t\t 0 \t\t 0 \t\t 5.07 \t\t 0 \t\t 5.07 \t\t 0 \t\t 5.07 \t\t 0\n",
            "    2 \t\t 4 \t\t 4 \t\t 5.42 \t\t 5.07 \t\t 10.49 \t\t 1.07 \t\t 6.49 \t\t 0\n",
            "    3 \t\t 7 \t\t 11 \t\t 5.27 \t\t 11 \t\t 16.27 \t\t 0 \t\t 5.27 \t\t 0.51\n",
            "    4 \t\t 5 \t\t 16 \t\t 5.78 \t\t 16.27 \t\t 22.05 \t\t 0.27 \t\t 6.05 \t\t 0\n",
            "    5 \t\t 4 \t\t 20 \t\t 5.32 \t\t 22.05 \t\t 27.37 \t\t 2.05 \t\t 7.37 \t\t 0\n",
            "    6 \t\t 3 \t\t 23 \t\t 6.33 \t\t 27.37 \t\t 33.7 \t\t 4.37 \t\t 10.7 \t\t 0\n",
            "    7 \t\t 13 \t\t 36 \t\t 6.32 \t\t 36 \t\t 42.32 \t\t 0 \t\t 6.32 \t\t 2.3\n",
            "    8 \t\t 6 \t\t 42 \t\t 5.09 \t\t 42.32 \t\t 47.41 \t\t 0.32 \t\t 5.41 \t\t 0\n",
            "    9 \t\t 6 \t\t 48 \t\t 5.14 \t\t 48 \t\t 53.14 \t\t 0 \t\t 5.14 \t\t 0.59\n",
            "    10 \t\t 6 \t\t 54 \t\t 5.79 \t\t 54 \t\t 59.79 \t\t 0 \t\t 5.79 \t\t 0.86\n",
            "    11 \t\t 6 \t\t 60 \t\t 5.06 \t\t 60 \t\t 65.06 \t\t 0 \t\t 5.06 \t\t 0.21\n",
            "    12 \t\t 5 \t\t 65 \t\t 5.0 \t\t 65.06 \t\t 70.06 \t\t 0.06 \t\t 5.06 \t\t 0\n",
            "    13 \t\t 2 \t\t 67 \t\t 5.27 \t\t 70.06 \t\t 75.33 \t\t 3.06 \t\t 8.33 \t\t 0\n",
            "    14 \t\t 7 \t\t 74 \t\t 5.35 \t\t 75.33 \t\t 80.68 \t\t 1.33 \t\t 6.68 \t\t 0\n",
            "    15 \t\t 7 \t\t 81 \t\t 5.19 \t\t 81 \t\t 86.19 \t\t 0 \t\t 5.19 \t\t 0.32\n",
            "    16 \t\t 3 \t\t 84 \t\t 5.31 \t\t 86.19 \t\t 91.5 \t\t 2.19 \t\t 7.5 \t\t 0\n",
            "    17 \t\t 5 \t\t 89 \t\t 5.35 \t\t 91.5 \t\t 96.85 \t\t 2.5 \t\t 7.85 \t\t 0\n",
            "    18 \t\t 7 \t\t 96 \t\t 5.55 \t\t 96.85 \t\t 102.4 \t\t 0.85 \t\t 6.4 \t\t 0\n",
            "    19 \t\t 5 \t\t 101 \t\t 5.07 \t\t 102.4 \t\t 107.47 \t\t 1.4 \t\t 6.47 \t\t 0\n",
            "    20 \t\t 4 \t\t 105 \t\t 5.67 \t\t 107.47 \t\t 113.14 \t\t 2.47 \t\t 8.14 \t\t 0\n",
            "---------------------------------------------------------------------------------------------------------------------------------------------\n",
            "Total: \t    TIAT= 105 \t\t\t\tTST= 108.35 \t\t\t\t\tTWT= 21.94 \t\tTTSIS= 130.29 \tTSIT 4.79\n"
          ],
          "name": "stdout"
        }
      ]
    },
    {
      "cell_type": "code",
      "metadata": {
        "colab": {
          "base_uri": "https://localhost:8080/"
        },
        "id": "-lxsVagIkk3z",
        "outputId": "c40dffb7-937b-48de-fe3b-ade9f68c6ace"
      },
      "source": [
        "customer =20\n",
        "avgWaitingTime = round(sumWaiting/customer,2)\n",
        "print(\"Average Waiting Time: \",avgWaitingTime)\n",
        "avgSpendSystemTime = round(sumSpendSystem/customer,2)\n",
        "print(\"Average Time Spend in System: \",avgSpendSystemTime)\n",
        "avgInterArrivalTime = round(sumInterArrival/(customer-1),2)\n",
        "print(\"Average Time Between Arrival: \",avgInterArrivalTime)\n",
        "avgServiceTime = round(sumService/customer,2)\n",
        "print(\"Average Service Time: \",avgServiceTime)\n",
        "proportionIdleServerTime = round(sumServerIdle/serviceTimeEnd[19],2)\n",
        "print(\"The proportion of the idle time of the server: \",proportionIdleServerTime)"
      ],
      "execution_count": 202,
      "outputs": [
        {
          "output_type": "stream",
          "text": [
            "Average Waiting Time:  1.1\n",
            "Average Time Spend in System:  6.51\n",
            "Average Time Between Arrival:  5.53\n",
            "Average Service Time:  5.42\n",
            "The proportion of the idle time of the server:  0.04\n"
          ],
          "name": "stdout"
        }
      ]
    }
  ]
}